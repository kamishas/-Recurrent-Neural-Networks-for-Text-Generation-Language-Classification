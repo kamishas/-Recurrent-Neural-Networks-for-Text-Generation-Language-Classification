{
 "cells": [
  {
   "cell_type": "markdown",
   "metadata": {},
   "source": [
    "Setup and Imports"
   ]
  },
  {
   "cell_type": "code",
   "execution_count": 11,
   "metadata": {},
   "outputs": [
    {
     "name": "stdout",
     "output_type": "stream",
     "text": [
      "Using device: cuda\n"
     ]
    }
   ],
   "source": [
    "\n",
    "\n",
    "# Import necessary libraries\n",
    "import torch\n",
    "import torch.nn as nn\n",
    "import unidecode\n",
    "import string\n",
    "import random\n",
    "import time\n",
    "import matplotlib.pyplot as plt\n",
    "\n",
    "# Check device (use GPU if available)\n",
    "device = torch.device(\"cuda\" if torch.cuda.is_available() else \"cpu\")\n",
    "print(\"Using device:\", device)\n",
    "\n"
   ]
  },
  {
   "cell_type": "markdown",
   "metadata": {},
   "source": [
    "Dataset Preparation"
   ]
  },
  {
   "cell_type": "code",
   "execution_count": null,
   "metadata": {},
   "outputs": [
    {
     "name": "stdout",
     "output_type": "stream",
     "text": [
      "--2024-11-09 16:47:15--  https://www.gutenberg.org/files/11/11-0.txt\n",
      "Resolving www.gutenberg.org (www.gutenberg.org)... 152.19.134.47, 2610:28:3090:3000:0:bad:cafe:47\n",
      "Connecting to www.gutenberg.org (www.gutenberg.org)|152.19.134.47|:443... connected.\n",
      "HTTP request sent, awaiting response... 200 OK\n",
      "Length: 154571 (151K) [text/plain]\n",
      "Saving to: ‘alice.txt’\n",
      "\n",
      "alice.txt           100%[===================>] 150.95K  --.-KB/s    in 0.03s   \n",
      "\n",
      "2024-11-09 16:47:15 (4.29 MB/s) - ‘alice.txt’ saved [154571/154571]\n",
      "\n",
      "Total dataset length: 144957\n",
      "Train text length: 130461\n",
      "Test text length: 14496\n"
     ]
    }
   ],
   "source": [
    "# Download and load the dataset (\"Alice in Wonderland\")\n",
    "!wget -O alice.txt https://www.gutenberg.org/files/11/11-0.txt\n",
    "\n",
    "# Define characters and load text data\n",
    "all_characters = string.printable\n",
    "n_characters = len(all_characters)\n",
    "\n",
    "file_path = 'alice.txt'\n",
    "file = unidecode.unidecode(open(file_path).read())\n",
    "file_len = len(file)\n",
    "print(\"Total dataset length:\", file_len)\n",
    "\n",
    "# Split the data into train and test sets (90% train, 10% test)\n",
    "split_idx = int(0.9 * file_len)\n",
    "train_text = file[:split_idx]\n",
    "test_text = file[split_idx:]\n",
    "\n",
    "print(\"Train text length:\", len(train_text))\n",
    "print(\"Test text length:\", len(test_text))\n"
   ]
  },
  {
   "cell_type": "markdown",
   "metadata": {},
   "source": [
    "Helper Functions"
   ]
  },
  {
   "cell_type": "code",
   "execution_count": 13,
   "metadata": {},
   "outputs": [],
   "source": [
    "# Define chunk length\n",
    "chunk_len = 200\n",
    "\n",
    "def random_chunk(text):\n",
    "    start_idx = random.randint(0, len(text) - chunk_len - 2)\n",
    "    end_idx = start_idx + chunk_len + 1\n",
    "    return text[start_idx:end_idx]\n",
    "\n",
    "\n",
    "\n",
    "# Function to convert a string to a tensor of character indices\n",
    "def char_tensor(text):\n",
    "    tensor = torch.zeros(len(text)).long()\n",
    "    for c in range(len(text)):\n",
    "        tensor[c] = all_characters.index(text[c])\n",
    "    return tensor\n",
    "\n",
    "# Function to load a random batch of data\n",
    "def load_random_batch(text, chunk_len, batch_size, device):\n",
    "    input_data = torch.zeros(batch_size, chunk_len).long().to(device)\n",
    "    target_data = torch.zeros(batch_size, chunk_len).long().to(device)\n",
    "    for i in range(batch_size):\n",
    "        chunk = random_chunk(text)\n",
    "        input_data[i] = char_tensor(chunk[:-1])\n",
    "        target_data[i] = char_tensor(chunk[1:])\n",
    "    return input_data, target_data\n"
   ]
  },
  {
   "cell_type": "markdown",
   "metadata": {},
   "source": [
    "GRU Model Definition"
   ]
  },
  {
   "cell_type": "code",
   "execution_count": 14,
   "metadata": {},
   "outputs": [],
   "source": [
    "class GRUModel(nn.Module):\n",
    "    def __init__(self, input_size, hidden_size, output_size, n_layers=1, dropout=0.2):\n",
    "        super(GRUModel, self).__init__()\n",
    "        self.hidden_size = hidden_size\n",
    "        self.n_layers = n_layers\n",
    "\n",
    "        self.encoder = nn.Embedding(input_size, hidden_size)\n",
    "        self.gru = nn.GRU(hidden_size, hidden_size, n_layers, batch_first=True, dropout=dropout)\n",
    "        self.decoder = nn.Linear(hidden_size, output_size)\n",
    "\n",
    "    def forward(self, input, hidden):\n",
    "        embedded = self.encoder(input)  # Shape: (batch_size, seq_len, hidden_size)\n",
    "        output, hidden = self.gru(embedded, hidden)  # Shape: (batch_size, seq_len, hidden_size)\n",
    "        output = self.decoder(output)  # Shape: (batch_size, seq_len, n_characters)\n",
    "        return output, hidden\n",
    "\n",
    "    def init_hidden(self, batch_size, device):\n",
    "        return torch.zeros(self.n_layers, batch_size, self.hidden_size).to(device)\n"
   ]
  },
  {
   "cell_type": "markdown",
   "metadata": {},
   "source": [
    "Training and Evaluation Functions"
   ]
  },
  {
   "cell_type": "code",
   "execution_count": 15,
   "metadata": {},
   "outputs": [],
   "source": [
    "def train(model, input_data, target_data, optimizer, criterion):\n",
    "    model.train()\n",
    "    hidden = model.init_hidden(input_data.size(0), device)\n",
    "\n",
    "    optimizer.zero_grad()\n",
    "    output, hidden = model(input_data, hidden)\n",
    "\n",
    "    # Reshape output and target data for loss calculation\n",
    "    output = output.reshape(-1, n_characters)\n",
    "    target_data = target_data.reshape(-1)\n",
    "\n",
    "    # Compute loss\n",
    "    loss = criterion(output, target_data)\n",
    "\n",
    "    # Backpropagation and optimization\n",
    "    loss.backward()\n",
    "    torch.nn.utils.clip_grad_norm_(model.parameters(), max_norm=5.0)  # Gradient clipping\n",
    "    optimizer.step()\n",
    "\n",
    "    return loss.item()\n",
    "\n",
    "\n",
    "def eval_test(model, input_data, target_data):\n",
    "    model.eval()\n",
    "    with torch.no_grad():\n",
    "        hidden = model.init_hidden(input_data.size(0), device)\n",
    "        output, hidden = model(input_data, hidden)\n",
    "\n",
    "        # Reshape output and target data for loss calculation\n",
    "        output = output.reshape(-1, n_characters)\n",
    "        target_data = target_data.reshape(-1)\n",
    "\n",
    "        # Compute loss\n",
    "        loss = criterion(output, target_data)\n",
    "\n",
    "    return loss.item()\n",
    "\n"
   ]
  },
  {
   "cell_type": "markdown",
   "metadata": {},
   "source": [
    "Training Loop"
   ]
  },
  {
   "cell_type": "code",
   "execution_count": 25,
   "metadata": {},
   "outputs": [
    {
     "name": "stdout",
     "output_type": "stream",
     "text": [
      "Training for 2000 epochs...\n",
      "Epoch 100 | Train Loss: 1.5167 | Test Loss: 1.5697\n",
      "Epoch 200 | Train Loss: 1.1766 | Test Loss: 1.3971\n",
      "Epoch 300 | Train Loss: 1.0105 | Test Loss: 1.4144\n",
      "Epoch 400 | Train Loss: 0.8856 | Test Loss: 1.4017\n",
      "Epoch 500 | Train Loss: 0.7745 | Test Loss: 1.5247\n",
      "Epoch 600 | Train Loss: 0.7142 | Test Loss: 1.5694\n",
      "Epoch 700 | Train Loss: 0.6755 | Test Loss: 1.7159\n",
      "Epoch 800 | Train Loss: 0.6159 | Test Loss: 1.7457\n",
      "Epoch 900 | Train Loss: 0.5964 | Test Loss: 1.7991\n",
      "Epoch 1000 | Train Loss: 0.5727 | Test Loss: 1.7676\n",
      "Epoch 1100 | Train Loss: 0.5546 | Test Loss: 1.8859\n",
      "Epoch 1200 | Train Loss: 0.5447 | Test Loss: 1.8920\n",
      "Epoch 1300 | Train Loss: 0.5328 | Test Loss: 1.9508\n",
      "Epoch 1400 | Train Loss: 0.5276 | Test Loss: 1.9877\n",
      "Epoch 1500 | Train Loss: 0.5099 | Test Loss: 1.9561\n",
      "Epoch 1600 | Train Loss: 0.4849 | Test Loss: 2.0360\n",
      "Epoch 1700 | Train Loss: 0.4800 | Test Loss: 2.0732\n",
      "Epoch 1800 | Train Loss: 0.4767 | Test Loss: 2.0258\n",
      "Epoch 1900 | Train Loss: 0.4740 | Test Loss: 1.9926\n",
      "Epoch 2000 | Train Loss: 0.4835 | Test Loss: 2.1431\n"
     ]
    }
   ],
   "source": [
    "# Hyperparameters\n",
    "hidden_size = 256\n",
    "n_layers = 2\n",
    "learning_rate = 0.003\n",
    "batch_size = 100\n",
    "n_epochs = 2000\n",
    "\n",
    "# Initialize the model, optimizer, and loss function\n",
    "model = GRUModel(n_characters, hidden_size, n_characters, n_layers).to(device)\n",
    "optimizer = torch.optim.Adam(model.parameters(), lr=learning_rate)\n",
    "criterion = nn.CrossEntropyLoss()\n",
    "\n",
    "\n",
    "\n",
    "# Lists to store losses for plotting\n",
    "all_losses = []\n",
    "test_losses = []\n",
    "loss_avg = 0\n",
    "test_loss_avg = 0\n",
    "print_every = 100\n",
    "plot_every = 100\n",
    "\n",
    "print(\"Training for %d epochs...\" % n_epochs)\n",
    "for epoch in range(1, n_epochs + 1):\n",
    "    # Load random batch for training\n",
    "    input_data, target_data = load_random_batch(train_text, chunk_len, batch_size, device)\n",
    "    loss = train(model, input_data, target_data, optimizer, criterion)\n",
    "    loss_avg += loss\n",
    "\n",
    "    # Load random batch for testing\n",
    "    test_input, test_target = load_random_batch(test_text, chunk_len, batch_size, device)\n",
    "    test_loss = eval_test(model, test_input, test_target)\n",
    "    test_loss_avg += test_loss\n",
    "\n",
    "    # Print progress every print_every epochs\n",
    "    if epoch % print_every == 0:\n",
    "        print(f\"Epoch {epoch} | Train Loss: {loss:.4f} | Test Loss: {test_loss:.4f}\")\n",
    "\n",
    "    # Record losses for plotting\n",
    "    if epoch % plot_every == 0:\n",
    "        all_losses.append(loss_avg / plot_every)\n",
    "        test_losses.append(test_loss_avg / plot_every)\n",
    "        loss_avg = 0\n",
    "        test_loss_avg = 0"
   ]
  },
  {
   "cell_type": "markdown",
   "metadata": {},
   "source": [
    " Plotting the Losses"
   ]
  },
  {
   "cell_type": "code",
   "execution_count": 27,
   "metadata": {},
   "outputs": [
    {
     "data": {
      "image/png": "[encoded data removed]",
      "text/plain": [
       "<Figure size 864x432 with 1 Axes>"
      ]
     },
     "metadata": {
      "needs_background": "light"
     },
     "output_type": "display_data"
    }
   ],
   "source": [
    "import matplotlib.pyplot as plt\n",
    "\n",
    "if len(all_losses) > 0 and len(test_losses) > 0:\n",
    "    plt.figure(figsize=(12, 6))\n",
    "    plt.plot(all_losses, label=\"Training Loss\", color='blue', linewidth=2)\n",
    "    plt.plot(test_losses, label=\"Test Loss\", color='red', linestyle='--', linewidth=2)\n",
    "    plt.xlabel(\"Recorded Points (every 100 epochs)\")\n",
    "    plt.ylabel(\"Loss\")\n",
    "    plt.title(\"Training and Test Loss Curves\")\n",
    "    plt.legend()\n",
    "    plt.grid(True)\n",
    "    plt.show()\n",
    "else:\n",
    "    print(\"No loss values recorded. Please check your training loop.\")\n"
   ]
  },
  {
   "cell_type": "markdown",
   "metadata": {
    "tags": []
   },
   "source": [
    "Text Generation"
   ]
  },
  {
   "cell_type": "code",
   "execution_count": 30,
   "metadata": {},
   "outputs": [
    {
     "name": "stdout",
     "output_type": "stream",
     "text": [
      "Alice had been all the while, however, she\n",
      "soon made out that she was now about a through the window, and on it, and\n",
      "the two creatures would not stoop?\n",
      "Soup of the evening, beautiful Soup!\n",
      "Soup of the even\n"
     ]
    }
   ],
   "source": [
    "def generate(model, prime_str='A', predict_len=100, temperature=0.8):\n",
    "    model.eval()\n",
    "    hidden = model.init_hidden(1, device)\n",
    "    prime_input = char_tensor(prime_str).to(device)\n",
    "    predicted = prime_str\n",
    "\n",
    "    for p in range(len(prime_str) - 1):\n",
    "        _, hidden = model(prime_input[p].view(1, 1), hidden)\n",
    "\n",
    "    inp = prime_input[-1].view(1, 1)\n",
    "    for _ in range(predict_len):\n",
    "        output, hidden = model(inp, hidden)\n",
    "        output_dist = output.view(-1).div(temperature).exp()\n",
    "        top_i = torch.multinomial(output_dist, 1)[0]\n",
    "\n",
    "        predicted_char = all_characters[top_i]\n",
    "        predicted += predicted_char\n",
    "        inp = char_tensor(predicted_char).view(1, 1).to(device)\n",
    "\n",
    "    return predicted\n",
    "\n",
    "# Example generation\n",
    "print(generate(model, prime_str=\"Alice\", predict_len=200))\n"
   ]
  },
  {
   "cell_type": "code",
   "execution_count": null,
   "metadata": {},
   "outputs": [],
   "source": []
  },
  {
   "cell_type": "code",
   "execution_count": null,
   "metadata": {},
   "outputs": [],
   "source": []
  },
  {
   "cell_type": "code",
   "execution_count": null,
   "metadata": {},
   "outputs": [],
   "source": []
  },
  {
   "cell_type": "code",
   "execution_count": null,
   "metadata": {},
   "outputs": [],
   "source": []
  },
  {
   "cell_type": "code",
   "execution_count": null,
   "metadata": {
    "tags": []
   },
   "outputs": [],
   "source": []
  },
  {
   "cell_type": "code",
   "execution_count": null,
   "metadata": {
    "tags": []
   },
   "outputs": [],
   "source": []
  }
 ],
 "metadata": {
  "anaconda-cloud": {},
  "kernelspec": {
   "display_name": "Python 3 (ipykernel)",
   "language": "python",
   "name": "python3"
  },
  "language_info": {
   "codemirror_mode": {
    "name": "ipython",
    "version": 3
   },
   "file_extension": ".py",
   "mimetype": "text/x-python",
   "name": "python",
   "nbconvert_exporter": "python",
   "pygments_lexer": "ipython3",
   "version": "3.9.9"
  }
 },
 "nbformat": 4,
 "nbformat_minor": 4
}
